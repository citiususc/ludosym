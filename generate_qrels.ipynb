{
 "cells": [
  {
   "cell_type": "code",
   "execution_count": 5,
   "metadata": {},
   "outputs": [],
   "source": [
    "import json\n",
    "ids = []\n",
    "with open('dataset/corpus.jsonl', 'r') as f:\n",
    "    for line in f.readlines():\n",
    "        aux = json.loads(line)\n",
    "        ids.append(aux['_id'])"
   ]
  },
  {
   "cell_type": "code",
   "execution_count": 14,
   "metadata": {},
   "outputs": [
    {
     "name": "stderr",
     "output_type": "stream",
     "text": [
      "100%|██████████| 469400/469400 [00:04<00:00, 98586.81it/s] \n",
      "100%|██████████| 469400/469400 [00:03<00:00, 120391.77it/s]\n",
      "100%|██████████| 469400/469400 [00:03<00:00, 122387.69it/s]\n",
      "100%|██████████| 469400/469400 [00:03<00:00, 122557.20it/s]\n",
      "100%|██████████| 469400/469400 [00:04<00:00, 102207.26it/s]\n",
      "100%|██████████| 469400/469400 [00:04<00:00, 106924.11it/s]\n",
      "100%|██████████| 469400/469400 [00:04<00:00, 111531.96it/s]\n",
      "100%|██████████| 469400/469400 [00:04<00:00, 109123.04it/s]\n",
      "100%|██████████| 469400/469400 [00:03<00:00, 135530.87it/s]\n"
     ]
    }
   ],
   "source": [
    "import pandas as pd\n",
    "from tqdm import tqdm\n",
    "majority = []\n",
    "consensus = []\n",
    "\n",
    "for query in range(9):\n",
    "    df_j = pd.read_csv(f'gambling_asesores_final/{query}.csv')\n",
    "    c = df_j.loc[df_j['consensus'] == True].values\n",
    "    m = df_j.loc[df_j['majority'] == True].values\n",
    "    for id in tqdm(ids):\n",
    "        majority.append([query, 0, id, int(id in m)])\n",
    "        consensus.append([query, 0, id, int(id in c)])\n",
    "        "
   ]
  },
  {
   "cell_type": "code",
   "execution_count": 16,
   "metadata": {},
   "outputs": [],
   "source": [
    "df_majority = pd.DataFrame(majority, columns=['query', 'Q0', 'doc-id', 'rel'])\n",
    "df_majority.to_csv('rels/qrels_majority.csv')"
   ]
  },
  {
   "cell_type": "code",
   "execution_count": 17,
   "metadata": {},
   "outputs": [],
   "source": [
    "df_majority = pd.DataFrame(consensus, columns=['query', 'Q0', 'doc-id', 'rel'])\n",
    "df_majority.to_csv('rels/qrels_consensus.csv')"
   ]
  }
 ],
 "metadata": {
  "kernelspec": {
   "display_name": "labeling",
   "language": "python",
   "name": "python3"
  },
  "language_info": {
   "codemirror_mode": {
    "name": "ipython",
    "version": 3
   },
   "file_extension": ".py",
   "mimetype": "text/x-python",
   "name": "python",
   "nbconvert_exporter": "python",
   "pygments_lexer": "ipython3",
   "version": "3.10.13"
  }
 },
 "nbformat": 4,
 "nbformat_minor": 2
}
