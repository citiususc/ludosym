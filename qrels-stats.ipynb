{
 "cells": [
  {
   "cell_type": "code",
   "execution_count": 2,
   "metadata": {},
   "outputs": [],
   "source": [
    "import os\n",
    "import pandas as pd "
   ]
  },
  {
   "cell_type": "code",
   "execution_count": 3,
   "metadata": {},
   "outputs": [],
   "source": [
    "os.chdir('./gambling_asesores_final')"
   ]
  },
  {
   "cell_type": "code",
   "execution_count": 4,
   "metadata": {},
   "outputs": [
    {
     "name": "stdout",
     "output_type": "stream",
     "text": [
      "Number of relevants per consensus 13 out of 134\n",
      "Number of relevants per majority 27 out of 134\n",
      "Number of relevants per consensus 3 out of 121\n",
      "Number of relevants per majority 12 out of 121\n",
      "Number of relevants per consensus 14 out of 114\n",
      "Number of relevants per majority 23 out of 114\n",
      "Number of relevants per consensus 11 out of 103\n",
      "Number of relevants per majority 24 out of 103\n",
      "Number of relevants per consensus 3 out of 117\n",
      "Number of relevants per majority 11 out of 117\n",
      "Number of relevants per consensus 3 out of 109\n",
      "Number of relevants per majority 8 out of 109\n",
      "Number of relevants per consensus 8 out of 107\n",
      "Number of relevants per majority 16 out of 107\n",
      "Number of relevants per consensus 3 out of 103\n",
      "Number of relevants per majority 7 out of 103\n",
      "Number of relevants per consensus 8 out of 91\n",
      "Number of relevants per majority 16 out of 91\n"
     ]
    }
   ],
   "source": [
    "dd = './gambling_asesores_final'\n",
    "for f in os.listdir(dd):\n",
    "    df = pd.read_csv(dd+'/'+f, index_col=0)\n",
    "    print(\"Number of relevants per consensus\", df[df[\"consensus\"]==True]['doc_id'].count(), \"out of\", len(df))\n",
    "    print(\"Number of relevants per majority\", df[df[\"majority\"]==True]['doc_id'].count(), \"out of\", len(df))\n",
    "    print()"
   ]
  }
 ],
 "metadata": {
  "kernelspec": {
   "display_name": "base",
   "language": "python",
   "name": "python3"
  },
  "language_info": {
   "codemirror_mode": {
    "name": "ipython",
    "version": 3
   },
   "file_extension": ".py",
   "mimetype": "text/x-python",
   "name": "python",
   "nbconvert_exporter": "python",
   "pygments_lexer": "ipython3",
   "version": "3.9.7"
  },
  "orig_nbformat": 4
 },
 "nbformat": 4,
 "nbformat_minor": 2
}
