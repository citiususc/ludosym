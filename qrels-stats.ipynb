{
 "cells": [
  {
   "cell_type": "code",
   "execution_count": 1,
   "metadata": {},
   "outputs": [],
   "source": [
    "import os\n",
    "import pandas as pd "
   ]
  },
  {
   "cell_type": "code",
   "execution_count": 9,
   "metadata": {},
   "outputs": [
    {
     "name": "stdout",
     "output_type": "stream",
     "text": [
      "Number of relevants per consensus 3 out of 103\n",
      "Number of relevants per majority 7 out of 103\n",
      "\n",
      "Number of relevants per consensus 3 out of 109\n",
      "Number of relevants per majority 8 out of 109\n",
      "\n",
      "Number of relevants per consensus 11 out of 103\n",
      "Number of relevants per majority 24 out of 103\n",
      "\n",
      "Number of relevants per consensus 13 out of 134\n",
      "Number of relevants per majority 27 out of 134\n",
      "\n",
      "Number of relevants per consensus 3 out of 117\n",
      "Number of relevants per majority 11 out of 117\n",
      "\n",
      "Number of relevants per consensus 14 out of 114\n",
      "Number of relevants per majority 23 out of 114\n",
      "\n",
      "Number of relevants per consensus 3 out of 121\n",
      "Number of relevants per majority 12 out of 121\n",
      "\n",
      "Number of relevants per consensus 8 out of 91\n",
      "Number of relevants per majority 16 out of 91\n",
      "\n",
      "Number of relevants per consensus 8 out of 107\n",
      "Number of relevants per majority 16 out of 107\n",
      "\n",
      "     doc_id                                               text  \\\n",
      "0    405250  No creo que le hecho de dejar de jugar sea jod...   \n",
      "1     75525  Evidentemente el que no quiere dejar de jugar ...   \n",
      "2    434950  No intentes recuperar jamás lo que perdiste vo...   \n",
      "3    474374  En mi caso yo creía que no tenía pero cuando d...   \n",
      "4    211974                                      STOP PLAYING    \n",
      "..      ...                                                ...   \n",
      "102  106989  De veras esto es mucho más serio de lo que pue...   \n",
      "103  334324  Tú planteas que durante 15 dias el ludópata ha...   \n",
      "104  127484  Quizás no puedas pagar nunca tus deudas pero s...   \n",
      "105  447741   ha dejado alguna vez de hacer algo importante...   \n",
      "106  482559  Trabajo en una Asociacion de Ludopatas en Vigo...   \n",
      "\n",
      "     manu.couto1k_rels  marcosfp_rels  ezra.mario_rels  consensus  majority  \n",
      "0                 True           True            False      False      True  \n",
      "1                False          False            False      False     False  \n",
      "2                False          False            False      False     False  \n",
      "3                 True           True             True       True      True  \n",
      "4                False          False            False      False     False  \n",
      "..                 ...            ...              ...        ...       ...  \n",
      "102              False          False            False      False     False  \n",
      "103              False          False            False      False     False  \n",
      "104              False          False            False      False     False  \n",
      "105               True          False            False      False     False  \n",
      "106              False          False            False      False     False  \n",
      "\n",
      "[999 rows x 7 columns]\n"
     ]
    }
   ],
   "source": [
    "dd = '.'\n",
    "assessments = []\n",
    "for f in os.listdir(dd):\n",
    "    df = pd.read_csv(dd+'/'+f, index_col=0)\n",
    "    assessments.append(df)\n",
    "    print(\"Number of relevants per consensus\", df[df[\"consensus\"]==True]['doc_id'].count(), \"out of\", len(df))\n",
    "    print(\"Number of relevants per majority\", df[df[\"majority\"]==True]['doc_id'].count(), \"out of\", len(df))\n",
    "    print()"
   ]
  },
  {
   "cell_type": "code",
   "execution_count": 11,
   "metadata": {},
   "outputs": [
    {
     "name": "stdout",
     "output_type": "stream",
     "text": [
      "Index(['doc_id', 'text', 'manu.couto1k_rels', 'marcosfp_rels',\n",
      "       'ezra.mario_rels', 'consensus', 'majority'],\n",
      "      dtype='object')\n"
     ]
    }
   ],
   "source": [
    "\n",
    "final = pd.concat(assessments)\n",
    "print(final.columns)"
   ]
  },
  {
   "cell_type": "code",
   "execution_count": 20,
   "metadata": {},
   "outputs": [
    {
     "data": {
      "text/plain": [
       "0.4621155767146289"
      ]
     },
     "execution_count": 20,
     "metadata": {},
     "output_type": "execute_result"
    }
   ],
   "source": [
    "from sklearn.metrics import cohen_kappa_score\n",
    "cohen_kappa_score(final['manu.couto1k_rels'].values, final['marcosfp_rels'].values)"
   ]
  },
  {
   "cell_type": "code",
   "execution_count": 14,
   "metadata": {},
   "outputs": [
    {
     "data": {
      "text/plain": [
       "0.41305269904706243"
      ]
     },
     "execution_count": 14,
     "metadata": {},
     "output_type": "execute_result"
    }
   ],
   "source": [
    "cohen_kappa_score(final['manu.couto1k_rels'], final['ezra.mario_rels'])"
   ]
  },
  {
   "cell_type": "code",
   "execution_count": 15,
   "metadata": {},
   "outputs": [
    {
     "data": {
      "text/plain": [
       "0.44795325705143807"
      ]
     },
     "execution_count": 15,
     "metadata": {},
     "output_type": "execute_result"
    }
   ],
   "source": [
    "cohen_kappa_score(final['marcosfp_rels'], final['ezra.mario_rels'])"
   ]
  },
  {
   "cell_type": "code",
   "execution_count": 28,
   "metadata": {},
   "outputs": [
    {
     "data": {
      "text/plain": [
       "0.43685967429961936"
      ]
     },
     "execution_count": 28,
     "metadata": {},
     "output_type": "execute_result"
    }
   ],
   "source": [
    "import krippendorff\n",
    "krippendorff.alpha(reliability_data=[list(final['marcosfp_rels'].astype(int).values), list(final['ezra.mario_rels'].astype(int).values),list(final['manu.couto1k_rels'].astype(int).values)])"
   ]
  },
  {
   "cell_type": "code",
   "execution_count": 2,
   "metadata": {},
   "outputs": [
    {
     "name": "stdout",
     "output_type": "stream",
     "text": [
      "Number of relevants per consensus 4 out of 77\n",
      "Number of relevants per majority 15 out of 77\n",
      "\n",
      "Number of relevants per consensus 2 out of 74\n",
      "Number of relevants per majority 10 out of 74\n",
      "\n",
      "Number of relevants per consensus 7 out of 62\n",
      "Number of relevants per majority 16 out of 62\n",
      "\n",
      "Number of relevants per consensus 0 out of 71\n",
      "Number of relevants per majority 5 out of 71\n",
      "\n",
      "Number of relevants per consensus 2 out of 60\n",
      "Number of relevants per majority 8 out of 60\n",
      "\n",
      "Number of relevants per consensus 2 out of 63\n",
      "Number of relevants per majority 9 out of 63\n",
      "\n",
      "Number of relevants per consensus 11 out of 72\n",
      "Number of relevants per majority 13 out of 72\n",
      "\n",
      "Number of relevants per consensus 4 out of 67\n",
      "Number of relevants per majority 9 out of 67\n",
      "\n",
      "Number of relevants per consensus 3 out of 67\n",
      "Number of relevants per majority 7 out of 67\n",
      "\n"
     ]
    }
   ],
   "source": [
    "dd = './gambling_asesores_primero/'\n",
    "assessments = []\n",
    "for f in os.listdir(dd):\n",
    "    df = pd.read_csv(dd+'/'+f, index_col=0)\n",
    "    assessments.append(df)\n",
    "    print(\"Number of relevants per consensus\", df[df[\"consensus\"]==True]['doc_id'].count(), \"out of\", len(df))\n",
    "    print(\"Number of relevants per majority\", df[df[\"majority\"]==True]['doc_id'].count(), \"out of\", len(df))\n",
    "    print()"
   ]
  },
  {
   "cell_type": "code",
   "execution_count": 3,
   "metadata": {},
   "outputs": [
    {
     "name": "stdout",
     "output_type": "stream",
     "text": [
      "Index(['doc_id', 'text', 'manu.couto1k_rels', 'manu.couto1k_posi',\n",
      "       'marcosfp_rels', 'marcosfp_posi', 'ezra_rels', 'ezra_posi', 'consensus',\n",
      "       'majority', 'consesus_doub', 'majority_doub', 'posible_consensus_1',\n",
      "       'posible_consensus_2', 'Unnamed: 15',\n",
      "       '¿Ha mentido a su familia o a otras personas para ocultar el alcance de su ludopatía?',\n",
      "       '¿Has jugado para escapar de los problemas o cuando te sientes se siente deprimido, ansioso o mal',\n",
      "       '¿Se ha encontrado a menudo pensando en el juego (por ejemplo, reviviendo experiencias de juego',\n",
      "       '¿Ha pedido ayuda a otras personas para que le proporcionen el dinero necesario para aliviar una',\n",
      "       '¿Ha intentado repetidamente sin éxito controlar, reducir o dejar de jugar?',\n",
      "       '¿Se ha vuelto inquieto o irritable al intentar reducir o dejar de jugar?',\n",
      "       'Después de perder dinero apostando, ¿has vuelto otro día para para desquitarse?',\n",
      "       '¿Ha necesitado apostar cada vez más dinero para conseguir la cantidad de emoción que busca?',\n",
      "       '¿Ha arriesgado o perdido una relación importante, un trabajo, una oportunidad educativa o'],\n",
      "      dtype='object')\n"
     ]
    }
   ],
   "source": [
    "final = pd.concat(assessments)\n",
    "print(final.columns)"
   ]
  }
 ],
 "metadata": {
  "kernelspec": {
   "display_name": "Python 3 (ipykernel)",
   "language": "python",
   "name": "python3"
  },
  "language_info": {
   "codemirror_mode": {
    "name": "ipython",
    "version": 3
   },
   "file_extension": ".py",
   "mimetype": "text/x-python",
   "name": "python",
   "nbconvert_exporter": "python",
   "pygments_lexer": "ipython3",
   "version": "3.9.7"
  },
  "orig_nbformat": 4
 },
 "nbformat": 4,
 "nbformat_minor": 2
}
