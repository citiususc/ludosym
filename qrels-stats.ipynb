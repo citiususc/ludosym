{
 "cells": [
  {
   "cell_type": "code",
   "execution_count": 1,
   "metadata": {},
   "outputs": [],
   "source": [
    "import os\n",
    "import pandas as pd "
   ]
  },
  {
   "cell_type": "code",
   "execution_count": 45,
   "metadata": {},
   "outputs": [
    {
     "name": "stdout",
     "output_type": "stream",
     "text": [
      "Number of relevants per consensus 13 out of 134\n",
      "Number of relevants per majority 27 out of 134\n",
      "\n",
      "Number of relevants per consensus 3 out of 121\n",
      "Number of relevants per majority 12 out of 121\n",
      "\n",
      "Number of relevants per consensus 14 out of 114\n",
      "Number of relevants per majority 23 out of 114\n",
      "\n",
      "Number of relevants per consensus 11 out of 103\n",
      "Number of relevants per majority 24 out of 103\n",
      "\n",
      "Number of relevants per consensus 3 out of 117\n",
      "Number of relevants per majority 11 out of 117\n",
      "\n",
      "Number of relevants per consensus 3 out of 109\n",
      "Number of relevants per majority 8 out of 109\n",
      "\n",
      "Number of relevants per consensus 8 out of 107\n",
      "Number of relevants per majority 16 out of 107\n",
      "\n",
      "Number of relevants per consensus 3 out of 103\n",
      "Number of relevants per majority 7 out of 103\n",
      "\n",
      "Number of relevants per consensus 8 out of 91\n",
      "Number of relevants per majority 16 out of 91\n",
      "\n"
     ]
    }
   ],
   "source": [
    "dd = './gambling_asesores_final/'\n",
    "assessments = []\n",
    "for f in os.listdir(dd):\n",
    "    df = pd.read_csv(dd+'/'+f, index_col=0)\n",
    "    df[\"topic\"] = int(f.replace('.csv','')) + 1\n",
    "    assessments.append(df)\n",
    "    print(\"Number of relevants per consensus\", df[df[\"consensus\"]==True]['doc_id'].count(), \"out of\", len(df))\n",
    "    print(\"Number of relevants per majority\", df[df[\"majority\"]==True]['doc_id'].count(), \"out of\", len(df))\n",
    "    print()"
   ]
  },
  {
   "cell_type": "code",
   "execution_count": 46,
   "metadata": {},
   "outputs": [
    {
     "name": "stdout",
     "output_type": "stream",
     "text": [
      "Index(['doc_id', 'text', 'manu.couto1k_rels', 'marcosfp_rels',\n",
      "       'ezra.mario_rels', 'consensus', 'majority', 'topic'],\n",
      "      dtype='object')\n"
     ]
    }
   ],
   "source": [
    "\n",
    "final = pd.concat(assessments)\n",
    "print(final.columns)"
   ]
  },
  {
   "cell_type": "code",
   "execution_count": 47,
   "metadata": {},
   "outputs": [
    {
     "data": {
      "text/html": [
       "<div>\n",
       "<style scoped>\n",
       "    .dataframe tbody tr th:only-of-type {\n",
       "        vertical-align: middle;\n",
       "    }\n",
       "\n",
       "    .dataframe tbody tr th {\n",
       "        vertical-align: top;\n",
       "    }\n",
       "\n",
       "    .dataframe thead th {\n",
       "        text-align: right;\n",
       "    }\n",
       "</style>\n",
       "<table border=\"1\" class=\"dataframe\">\n",
       "  <thead>\n",
       "    <tr style=\"text-align: right;\">\n",
       "      <th></th>\n",
       "      <th>doc_id</th>\n",
       "      <th>text</th>\n",
       "      <th>manu.couto1k_rels</th>\n",
       "      <th>marcosfp_rels</th>\n",
       "      <th>ezra.mario_rels</th>\n",
       "      <th>consensus</th>\n",
       "      <th>majority</th>\n",
       "      <th>topic</th>\n",
       "    </tr>\n",
       "  </thead>\n",
       "  <tbody>\n",
       "    <tr>\n",
       "      <th>0</th>\n",
       "      <td>98560</td>\n",
       "      <td>La ludopatía tiene buen pronóstico en régimen ...</td>\n",
       "      <td>False</td>\n",
       "      <td>False</td>\n",
       "      <td>False</td>\n",
       "      <td>False</td>\n",
       "      <td>False</td>\n",
       "      <td>6</td>\n",
       "    </tr>\n",
       "    <tr>\n",
       "      <th>1</th>\n",
       "      <td>442115</td>\n",
       "      <td>Y tú poder demostrarle a ella a quien tanto he...</td>\n",
       "      <td>True</td>\n",
       "      <td>True</td>\n",
       "      <td>False</td>\n",
       "      <td>False</td>\n",
       "      <td>True</td>\n",
       "      <td>6</td>\n",
       "    </tr>\n",
       "    <tr>\n",
       "      <th>2</th>\n",
       "      <td>418052</td>\n",
       "      <td>11 Ha ocultado alguna vez a su pareja a sus hi...</td>\n",
       "      <td>True</td>\n",
       "      <td>False</td>\n",
       "      <td>False</td>\n",
       "      <td>False</td>\n",
       "      <td>False</td>\n",
       "      <td>6</td>\n",
       "    </tr>\n",
       "    <tr>\n",
       "      <th>3</th>\n",
       "      <td>66309</td>\n",
       "      <td>Deberías de plantearte si tu situación antisoc...</td>\n",
       "      <td>False</td>\n",
       "      <td>False</td>\n",
       "      <td>False</td>\n",
       "      <td>False</td>\n",
       "      <td>False</td>\n",
       "      <td>6</td>\n",
       "    </tr>\n",
       "    <tr>\n",
       "      <th>4</th>\n",
       "      <td>20486</td>\n",
       "      <td>Es posible que hayas dado este paso agobiado p...</td>\n",
       "      <td>False</td>\n",
       "      <td>False</td>\n",
       "      <td>False</td>\n",
       "      <td>False</td>\n",
       "      <td>False</td>\n",
       "      <td>6</td>\n",
       "    </tr>\n",
       "    <tr>\n",
       "      <th>...</th>\n",
       "      <td>...</td>\n",
       "      <td>...</td>\n",
       "      <td>...</td>\n",
       "      <td>...</td>\n",
       "      <td>...</td>\n",
       "      <td>...</td>\n",
       "      <td>...</td>\n",
       "      <td>...</td>\n",
       "    </tr>\n",
       "    <tr>\n",
       "      <th>86</th>\n",
       "      <td>294647</td>\n",
       "      <td>es que no puedo jugar joder no puedo jugar yo ...</td>\n",
       "      <td>False</td>\n",
       "      <td>False</td>\n",
       "      <td>False</td>\n",
       "      <td>False</td>\n",
       "      <td>False</td>\n",
       "      <td>7</td>\n",
       "    </tr>\n",
       "    <tr>\n",
       "      <th>87</th>\n",
       "      <td>471288</td>\n",
       "      <td>Ha intentado usted alguna vez reducir su juego</td>\n",
       "      <td>True</td>\n",
       "      <td>False</td>\n",
       "      <td>False</td>\n",
       "      <td>False</td>\n",
       "      <td>False</td>\n",
       "      <td>7</td>\n",
       "    </tr>\n",
       "    <tr>\n",
       "      <th>88</th>\n",
       "      <td>75513</td>\n",
       "      <td>Evidentemente el que no quiere dejar de jugar ...</td>\n",
       "      <td>False</td>\n",
       "      <td>False</td>\n",
       "      <td>False</td>\n",
       "      <td>False</td>\n",
       "      <td>False</td>\n",
       "      <td>7</td>\n",
       "    </tr>\n",
       "    <tr>\n",
       "      <th>89</th>\n",
       "      <td>447739</td>\n",
       "      <td>Ha intentado dejar de jugar o jugar menos din...</td>\n",
       "      <td>True</td>\n",
       "      <td>False</td>\n",
       "      <td>False</td>\n",
       "      <td>False</td>\n",
       "      <td>False</td>\n",
       "      <td>7</td>\n",
       "    </tr>\n",
       "    <tr>\n",
       "      <th>90</th>\n",
       "      <td>330239</td>\n",
       "      <td>Lo ideal seria el poder controlarse a la hora ...</td>\n",
       "      <td>True</td>\n",
       "      <td>False</td>\n",
       "      <td>True</td>\n",
       "      <td>False</td>\n",
       "      <td>True</td>\n",
       "      <td>7</td>\n",
       "    </tr>\n",
       "  </tbody>\n",
       "</table>\n",
       "<p>999 rows × 8 columns</p>\n",
       "</div>"
      ],
      "text/plain": [
       "    doc_id                                               text  \\\n",
       "0    98560  La ludopatía tiene buen pronóstico en régimen ...   \n",
       "1   442115  Y tú poder demostrarle a ella a quien tanto he...   \n",
       "2   418052  11 Ha ocultado alguna vez a su pareja a sus hi...   \n",
       "3    66309  Deberías de plantearte si tu situación antisoc...   \n",
       "4    20486  Es posible que hayas dado este paso agobiado p...   \n",
       "..     ...                                                ...   \n",
       "86  294647  es que no puedo jugar joder no puedo jugar yo ...   \n",
       "87  471288    Ha intentado usted alguna vez reducir su juego    \n",
       "88   75513  Evidentemente el que no quiere dejar de jugar ...   \n",
       "89  447739   Ha intentado dejar de jugar o jugar menos din...   \n",
       "90  330239  Lo ideal seria el poder controlarse a la hora ...   \n",
       "\n",
       "    manu.couto1k_rels  marcosfp_rels  ezra.mario_rels  consensus  majority  \\\n",
       "0               False          False            False      False     False   \n",
       "1                True           True            False      False      True   \n",
       "2                True          False            False      False     False   \n",
       "3               False          False            False      False     False   \n",
       "4               False          False            False      False     False   \n",
       "..                ...            ...              ...        ...       ...   \n",
       "86              False          False            False      False     False   \n",
       "87               True          False            False      False     False   \n",
       "88              False          False            False      False     False   \n",
       "89               True          False            False      False     False   \n",
       "90               True          False             True      False      True   \n",
       "\n",
       "    topic  \n",
       "0       6  \n",
       "1       6  \n",
       "2       6  \n",
       "3       6  \n",
       "4       6  \n",
       "..    ...  \n",
       "86      7  \n",
       "87      7  \n",
       "88      7  \n",
       "89      7  \n",
       "90      7  \n",
       "\n",
       "[999 rows x 8 columns]"
      ]
     },
     "execution_count": 47,
     "metadata": {},
     "output_type": "execute_result"
    }
   ],
   "source": [
    "final"
   ]
  },
  {
   "cell_type": "code",
   "execution_count": 48,
   "metadata": {},
   "outputs": [
    {
     "data": {
      "text/plain": [
       "0.4621155767146289"
      ]
     },
     "execution_count": 48,
     "metadata": {},
     "output_type": "execute_result"
    }
   ],
   "source": [
    "from sklearn.metrics import cohen_kappa_score\n",
    "cohen_kappa_score(final['manu.couto1k_rels'].values, final['marcosfp_rels'].values)"
   ]
  },
  {
   "cell_type": "code",
   "execution_count": 14,
   "metadata": {},
   "outputs": [
    {
     "data": {
      "text/plain": [
       "0.41305269904706243"
      ]
     },
     "execution_count": 14,
     "metadata": {},
     "output_type": "execute_result"
    }
   ],
   "source": [
    "cohen_kappa_score(final['manu.couto1k_rels'], final['ezra.mario_rels'])"
   ]
  },
  {
   "cell_type": "code",
   "execution_count": 15,
   "metadata": {},
   "outputs": [
    {
     "data": {
      "text/plain": [
       "0.44795325705143807"
      ]
     },
     "execution_count": 15,
     "metadata": {},
     "output_type": "execute_result"
    }
   ],
   "source": [
    "cohen_kappa_score(final['marcosfp_rels'], final['ezra.mario_rels'])"
   ]
  },
  {
   "cell_type": "code",
   "execution_count": 28,
   "metadata": {},
   "outputs": [
    {
     "data": {
      "text/plain": [
       "0.43685967429961936"
      ]
     },
     "execution_count": 28,
     "metadata": {},
     "output_type": "execute_result"
    }
   ],
   "source": [
    "import krippendorff\n",
    "krippendorff.alpha(reliability_data=[list(final['marcosfp_rels'].astype(int).values), list(final['ezra.mario_rels'].astype(int).values),list(final['manu.couto1k_rels'].astype(int).values)])"
   ]
  },
  {
   "cell_type": "code",
   "execution_count": 49,
   "metadata": {},
   "outputs": [
    {
     "data": {
      "text/html": [
       "<div>\n",
       "<style scoped>\n",
       "    .dataframe tbody tr th:only-of-type {\n",
       "        vertical-align: middle;\n",
       "    }\n",
       "\n",
       "    .dataframe tbody tr th {\n",
       "        vertical-align: top;\n",
       "    }\n",
       "\n",
       "    .dataframe thead th {\n",
       "        text-align: right;\n",
       "    }\n",
       "</style>\n",
       "<table border=\"1\" class=\"dataframe\">\n",
       "  <thead>\n",
       "    <tr style=\"text-align: right;\">\n",
       "      <th></th>\n",
       "      <th>topic</th>\n",
       "      <th>doc_id</th>\n",
       "      <th>label</th>\n",
       "    </tr>\n",
       "  </thead>\n",
       "  <tbody>\n",
       "    <tr>\n",
       "      <th>0</th>\n",
       "      <td>1</td>\n",
       "      <td>265216</td>\n",
       "      <td>True</td>\n",
       "    </tr>\n",
       "    <tr>\n",
       "      <th>1</th>\n",
       "      <td>1</td>\n",
       "      <td>92161</td>\n",
       "      <td>False</td>\n",
       "    </tr>\n",
       "    <tr>\n",
       "      <th>2</th>\n",
       "      <td>1</td>\n",
       "      <td>68608</td>\n",
       "      <td>False</td>\n",
       "    </tr>\n",
       "    <tr>\n",
       "      <th>3</th>\n",
       "      <td>1</td>\n",
       "      <td>483331</td>\n",
       "      <td>True</td>\n",
       "    </tr>\n",
       "    <tr>\n",
       "      <th>4</th>\n",
       "      <td>1</td>\n",
       "      <td>130052</td>\n",
       "      <td>True</td>\n",
       "    </tr>\n",
       "    <tr>\n",
       "      <th>...</th>\n",
       "      <td>...</td>\n",
       "      <td>...</td>\n",
       "      <td>...</td>\n",
       "    </tr>\n",
       "    <tr>\n",
       "      <th>3159</th>\n",
       "      <td>9</td>\n",
       "      <td>357360</td>\n",
       "      <td>False</td>\n",
       "    </tr>\n",
       "    <tr>\n",
       "      <th>3160</th>\n",
       "      <td>9</td>\n",
       "      <td>10226</td>\n",
       "      <td>True</td>\n",
       "    </tr>\n",
       "    <tr>\n",
       "      <th>3161</th>\n",
       "      <td>9</td>\n",
       "      <td>342004</td>\n",
       "      <td>True</td>\n",
       "    </tr>\n",
       "    <tr>\n",
       "      <th>3162</th>\n",
       "      <td>9</td>\n",
       "      <td>10231</td>\n",
       "      <td>False</td>\n",
       "    </tr>\n",
       "    <tr>\n",
       "      <th>3163</th>\n",
       "      <td>9</td>\n",
       "      <td>231421</td>\n",
       "      <td>False</td>\n",
       "    </tr>\n",
       "  </tbody>\n",
       "</table>\n",
       "<p>3164 rows × 3 columns</p>\n",
       "</div>"
      ],
      "text/plain": [
       "      topic  doc_id  label\n",
       "0         1  265216   True\n",
       "1         1   92161  False\n",
       "2         1   68608  False\n",
       "3         1  483331   True\n",
       "4         1  130052   True\n",
       "...     ...     ...    ...\n",
       "3159      9  357360  False\n",
       "3160      9   10226   True\n",
       "3161      9  342004   True\n",
       "3162      9   10231  False\n",
       "3163      9  231421  False\n",
       "\n",
       "[3164 rows x 3 columns]"
      ]
     },
     "execution_count": 49,
     "metadata": {},
     "output_type": "execute_result"
    }
   ],
   "source": [
    "#### Automatic labelling GPT-4\n",
    "import numpy as np \n",
    "\n",
    "gpt4 = pd.read_csv('./outputs/gpt-4.csv', names=[\"topic\",\"doc_id\", \"label\"])\n",
    "gpt4['label'] = np.where(gpt4['label']==\"Relevante\", True, gpt4['label'])\n",
    "gpt4['label'] = np.where(gpt4['label']==\"No relevante\", False, gpt4['label'])\n",
    "gpt4"
   ]
  },
  {
   "cell_type": "code",
   "execution_count": 19,
   "metadata": {},
   "outputs": [
    {
     "data": {
      "text/plain": [
       "Index(['doc_id', 'text', 'manu.couto1k_rels', 'marcosfp_rels',\n",
       "       'ezra.mario_rels', 'consensus', 'majority', 'topic'],\n",
       "      dtype='object')"
      ]
     },
     "execution_count": 19,
     "metadata": {},
     "output_type": "execute_result"
    }
   ],
   "source": [
    "final.columns"
   ]
  },
  {
   "cell_type": "code",
   "execution_count": 20,
   "metadata": {},
   "outputs": [
    {
     "data": {
      "text/plain": [
       "Index(['topic', 'doc_id', 'label'], dtype='object')"
      ]
     },
     "execution_count": 20,
     "metadata": {},
     "output_type": "execute_result"
    }
   ],
   "source": [
    "gpt4.columns"
   ]
  },
  {
   "cell_type": "code",
   "execution_count": 50,
   "metadata": {},
   "outputs": [
    {
     "data": {
      "text/html": [
       "<div>\n",
       "<style scoped>\n",
       "    .dataframe tbody tr th:only-of-type {\n",
       "        vertical-align: middle;\n",
       "    }\n",
       "\n",
       "    .dataframe tbody tr th {\n",
       "        vertical-align: top;\n",
       "    }\n",
       "\n",
       "    .dataframe thead th {\n",
       "        text-align: right;\n",
       "    }\n",
       "</style>\n",
       "<table border=\"1\" class=\"dataframe\">\n",
       "  <thead>\n",
       "    <tr style=\"text-align: right;\">\n",
       "      <th></th>\n",
       "      <th>doc_id</th>\n",
       "      <th>text</th>\n",
       "      <th>manu.couto1k_rels</th>\n",
       "      <th>marcosfp_rels</th>\n",
       "      <th>ezra.mario_rels</th>\n",
       "      <th>consensus</th>\n",
       "      <th>majority</th>\n",
       "      <th>topic</th>\n",
       "      <th>label</th>\n",
       "    </tr>\n",
       "  </thead>\n",
       "  <tbody>\n",
       "    <tr>\n",
       "      <th>0</th>\n",
       "      <td>98560</td>\n",
       "      <td>La ludopatía tiene buen pronóstico en régimen ...</td>\n",
       "      <td>False</td>\n",
       "      <td>False</td>\n",
       "      <td>False</td>\n",
       "      <td>False</td>\n",
       "      <td>False</td>\n",
       "      <td>6</td>\n",
       "      <td>False</td>\n",
       "    </tr>\n",
       "    <tr>\n",
       "      <th>1</th>\n",
       "      <td>442115</td>\n",
       "      <td>Y tú poder demostrarle a ella a quien tanto he...</td>\n",
       "      <td>True</td>\n",
       "      <td>True</td>\n",
       "      <td>False</td>\n",
       "      <td>False</td>\n",
       "      <td>True</td>\n",
       "      <td>6</td>\n",
       "      <td>True</td>\n",
       "    </tr>\n",
       "    <tr>\n",
       "      <th>2</th>\n",
       "      <td>418052</td>\n",
       "      <td>11 Ha ocultado alguna vez a su pareja a sus hi...</td>\n",
       "      <td>True</td>\n",
       "      <td>False</td>\n",
       "      <td>False</td>\n",
       "      <td>False</td>\n",
       "      <td>False</td>\n",
       "      <td>6</td>\n",
       "      <td>True</td>\n",
       "    </tr>\n",
       "    <tr>\n",
       "      <th>3</th>\n",
       "      <td>66309</td>\n",
       "      <td>Deberías de plantearte si tu situación antisoc...</td>\n",
       "      <td>False</td>\n",
       "      <td>False</td>\n",
       "      <td>False</td>\n",
       "      <td>False</td>\n",
       "      <td>False</td>\n",
       "      <td>6</td>\n",
       "      <td>False</td>\n",
       "    </tr>\n",
       "    <tr>\n",
       "      <th>4</th>\n",
       "      <td>20486</td>\n",
       "      <td>Es posible que hayas dado este paso agobiado p...</td>\n",
       "      <td>False</td>\n",
       "      <td>False</td>\n",
       "      <td>False</td>\n",
       "      <td>False</td>\n",
       "      <td>False</td>\n",
       "      <td>6</td>\n",
       "      <td>False</td>\n",
       "    </tr>\n",
       "    <tr>\n",
       "      <th>...</th>\n",
       "      <td>...</td>\n",
       "      <td>...</td>\n",
       "      <td>...</td>\n",
       "      <td>...</td>\n",
       "      <td>...</td>\n",
       "      <td>...</td>\n",
       "      <td>...</td>\n",
       "      <td>...</td>\n",
       "      <td>...</td>\n",
       "    </tr>\n",
       "    <tr>\n",
       "      <th>994</th>\n",
       "      <td>294647</td>\n",
       "      <td>es que no puedo jugar joder no puedo jugar yo ...</td>\n",
       "      <td>False</td>\n",
       "      <td>False</td>\n",
       "      <td>False</td>\n",
       "      <td>False</td>\n",
       "      <td>False</td>\n",
       "      <td>7</td>\n",
       "      <td>True</td>\n",
       "    </tr>\n",
       "    <tr>\n",
       "      <th>995</th>\n",
       "      <td>471288</td>\n",
       "      <td>Ha intentado usted alguna vez reducir su juego</td>\n",
       "      <td>True</td>\n",
       "      <td>False</td>\n",
       "      <td>False</td>\n",
       "      <td>False</td>\n",
       "      <td>False</td>\n",
       "      <td>7</td>\n",
       "      <td>True</td>\n",
       "    </tr>\n",
       "    <tr>\n",
       "      <th>996</th>\n",
       "      <td>75513</td>\n",
       "      <td>Evidentemente el que no quiere dejar de jugar ...</td>\n",
       "      <td>False</td>\n",
       "      <td>False</td>\n",
       "      <td>False</td>\n",
       "      <td>False</td>\n",
       "      <td>False</td>\n",
       "      <td>7</td>\n",
       "      <td>False</td>\n",
       "    </tr>\n",
       "    <tr>\n",
       "      <th>997</th>\n",
       "      <td>447739</td>\n",
       "      <td>Ha intentado dejar de jugar o jugar menos din...</td>\n",
       "      <td>True</td>\n",
       "      <td>False</td>\n",
       "      <td>False</td>\n",
       "      <td>False</td>\n",
       "      <td>False</td>\n",
       "      <td>7</td>\n",
       "      <td>True</td>\n",
       "    </tr>\n",
       "    <tr>\n",
       "      <th>998</th>\n",
       "      <td>330239</td>\n",
       "      <td>Lo ideal seria el poder controlarse a la hora ...</td>\n",
       "      <td>True</td>\n",
       "      <td>False</td>\n",
       "      <td>True</td>\n",
       "      <td>False</td>\n",
       "      <td>True</td>\n",
       "      <td>7</td>\n",
       "      <td>True</td>\n",
       "    </tr>\n",
       "  </tbody>\n",
       "</table>\n",
       "<p>999 rows × 9 columns</p>\n",
       "</div>"
      ],
      "text/plain": [
       "     doc_id                                               text  \\\n",
       "0     98560  La ludopatía tiene buen pronóstico en régimen ...   \n",
       "1    442115  Y tú poder demostrarle a ella a quien tanto he...   \n",
       "2    418052  11 Ha ocultado alguna vez a su pareja a sus hi...   \n",
       "3     66309  Deberías de plantearte si tu situación antisoc...   \n",
       "4     20486  Es posible que hayas dado este paso agobiado p...   \n",
       "..      ...                                                ...   \n",
       "994  294647  es que no puedo jugar joder no puedo jugar yo ...   \n",
       "995  471288    Ha intentado usted alguna vez reducir su juego    \n",
       "996   75513  Evidentemente el que no quiere dejar de jugar ...   \n",
       "997  447739   Ha intentado dejar de jugar o jugar menos din...   \n",
       "998  330239  Lo ideal seria el poder controlarse a la hora ...   \n",
       "\n",
       "     manu.couto1k_rels  marcosfp_rels  ezra.mario_rels  consensus  majority  \\\n",
       "0                False          False            False      False     False   \n",
       "1                 True           True            False      False      True   \n",
       "2                 True          False            False      False     False   \n",
       "3                False          False            False      False     False   \n",
       "4                False          False            False      False     False   \n",
       "..                 ...            ...              ...        ...       ...   \n",
       "994              False          False            False      False     False   \n",
       "995               True          False            False      False     False   \n",
       "996              False          False            False      False     False   \n",
       "997               True          False            False      False     False   \n",
       "998               True          False             True      False      True   \n",
       "\n",
       "     topic  label  \n",
       "0        6  False  \n",
       "1        6   True  \n",
       "2        6   True  \n",
       "3        6  False  \n",
       "4        6  False  \n",
       "..     ...    ...  \n",
       "994      7   True  \n",
       "995      7   True  \n",
       "996      7  False  \n",
       "997      7   True  \n",
       "998      7   True  \n",
       "\n",
       "[999 rows x 9 columns]"
      ]
     },
     "execution_count": 50,
     "metadata": {},
     "output_type": "execute_result"
    }
   ],
   "source": [
    "final['doc_id'] = final['doc_id'].astype(int)\n",
    "final['topic'] = final['topic'].astype(int)\n",
    "gpt4['doc_id'] = gpt4['doc_id'].astype(int)\n",
    "gpt4['topic'] = gpt4['topic'].astype(int)\n",
    "final = final.merge(gpt4, how='left', on=[\"doc_id\", \"topic\"])\n",
    "final[\"label\"] = final[\"label\"].astype(bool)\n",
    "final"
   ]
  },
  {
   "cell_type": "code",
   "execution_count": 51,
   "metadata": {},
   "outputs": [
    {
     "data": {
      "text/plain": [
       "0.3247142676675333"
      ]
     },
     "execution_count": 51,
     "metadata": {},
     "output_type": "execute_result"
    }
   ],
   "source": [
    "from sklearn.metrics import cohen_kappa_score\n",
    "cohen_kappa_score(final['label'].values, final['ezra.mario_rels'].values)"
   ]
  },
  {
   "cell_type": "code",
   "execution_count": 52,
   "metadata": {},
   "outputs": [
    {
     "data": {
      "text/plain": [
       "0.22648608998043906"
      ]
     },
     "execution_count": 52,
     "metadata": {},
     "output_type": "execute_result"
    }
   ],
   "source": [
    "cohen_kappa_score(final['label'].values, final['marcosfp_rels'].values)"
   ]
  },
  {
   "cell_type": "code",
   "execution_count": 53,
   "metadata": {},
   "outputs": [
    {
     "data": {
      "text/plain": [
       "0.42149202658536045"
      ]
     },
     "execution_count": 53,
     "metadata": {},
     "output_type": "execute_result"
    }
   ],
   "source": [
    "cohen_kappa_score(final['label'].values, final['manu.couto1k_rels'].values)"
   ]
  },
  {
   "cell_type": "code",
   "execution_count": null,
   "metadata": {},
   "outputs": [],
   "source": [
    "cohen_kappa_score(final['label'].values, final['consensus'].values)"
   ]
  },
  {
   "cell_type": "code",
   "execution_count": 5,
   "metadata": {},
   "outputs": [
    {
     "name": "stdout",
     "output_type": "stream",
     "text": [
      "Number of relevants per consensus 2 out of 60\n",
      "Number of relevants per majority 8 out of 60\n",
      "\n",
      "Number of relevants per consensus 11 out of 72\n",
      "Number of relevants per majority 13 out of 72\n",
      "\n",
      "Number of relevants per consensus 4 out of 77\n",
      "Number of relevants per majority 15 out of 77\n",
      "\n",
      "Number of relevants per consensus 2 out of 74\n",
      "Number of relevants per majority 10 out of 74\n",
      "\n",
      "Number of relevants per consensus 4 out of 67\n",
      "Number of relevants per majority 9 out of 67\n",
      "\n",
      "Number of relevants per consensus 7 out of 62\n",
      "Number of relevants per majority 16 out of 62\n",
      "\n",
      "Number of relevants per consensus 0 out of 71\n",
      "Number of relevants per majority 5 out of 71\n",
      "\n",
      "Number of relevants per consensus 2 out of 63\n",
      "Number of relevants per majority 9 out of 63\n",
      "\n",
      "Number of relevants per consensus 3 out of 67\n",
      "Number of relevants per majority 7 out of 67\n",
      "\n"
     ]
    }
   ],
   "source": [
    "dd = './gambling_asesores_primero/'\n",
    "assessments = []\n",
    "for f in os.listdir(dd):\n",
    "    df = pd.read_csv(dd+'/'+f, index_col=0)\n",
    "    df = df[['doc_id', 'text', 'manu.couto1k_rels', 'marcosfp_rels', 'ezra_rels', 'consensus', 'majority']]\n",
    "    assessments.append(df)\n",
    "    print(\"Number of relevants per consensus\", df[df[\"consensus\"]==True]['doc_id'].count(), \"out of\", len(df))\n",
    "    print(\"Number of relevants per majority\", df[df[\"majority\"]==True]['doc_id'].count(), \"out of\", len(df))\n",
    "    print()"
   ]
  },
  {
   "cell_type": "code",
   "execution_count": 6,
   "metadata": {},
   "outputs": [
    {
     "name": "stdout",
     "output_type": "stream",
     "text": [
      "Index(['doc_id', 'text', 'manu.couto1k_rels', 'marcosfp_rels', 'ezra_rels',\n",
      "       'consensus', 'majority'],\n",
      "      dtype='object')\n"
     ]
    }
   ],
   "source": [
    "final = pd.concat(assessments)\n",
    "print(final.columns)"
   ]
  },
  {
   "cell_type": "code",
   "execution_count": 7,
   "metadata": {},
   "outputs": [
    {
     "data": {
      "text/plain": [
       "0.38692643117174064"
      ]
     },
     "execution_count": 7,
     "metadata": {},
     "output_type": "execute_result"
    }
   ],
   "source": [
    "from sklearn.metrics import cohen_kappa_score\n",
    "cohen_kappa_score(final['manu.couto1k_rels'].values, final['marcosfp_rels'].values)"
   ]
  },
  {
   "cell_type": "code",
   "execution_count": 9,
   "metadata": {},
   "outputs": [
    {
     "data": {
      "text/plain": [
       "0.3450240875775582"
      ]
     },
     "execution_count": 9,
     "metadata": {},
     "output_type": "execute_result"
    }
   ],
   "source": [
    "cohen_kappa_score(final['manu.couto1k_rels'], final['ezra_rels'])"
   ]
  },
  {
   "cell_type": "code",
   "execution_count": 11,
   "metadata": {},
   "outputs": [
    {
     "data": {
      "text/plain": [
       "0.434204872770095"
      ]
     },
     "execution_count": 11,
     "metadata": {},
     "output_type": "execute_result"
    }
   ],
   "source": [
    "cohen_kappa_score(final['marcosfp_rels'], final['ezra_rels'])"
   ]
  },
  {
   "cell_type": "code",
   "execution_count": 13,
   "metadata": {},
   "outputs": [
    {
     "data": {
      "text/plain": [
       "0.38661958157371"
      ]
     },
     "execution_count": 13,
     "metadata": {},
     "output_type": "execute_result"
    }
   ],
   "source": [
    "import krippendorff\n",
    "krippendorff.alpha(reliability_data=[list(final['marcosfp_rels'].astype(int).values), list(final['ezra_rels'].astype(int).values),list(final['manu.couto1k_rels'].astype(int).values)])"
   ]
  },
  {
   "cell_type": "code",
   "execution_count": null,
   "metadata": {},
   "outputs": [],
   "source": []
  }
 ],
 "metadata": {
  "kernelspec": {
   "display_name": "Python 3 (ipykernel)",
   "language": "python",
   "name": "python3"
  },
  "language_info": {
   "codemirror_mode": {
    "name": "ipython",
    "version": 3
   },
   "file_extension": ".py",
   "mimetype": "text/x-python",
   "name": "python",
   "nbconvert_exporter": "python",
   "pygments_lexer": "ipython3",
   "version": "3.9.7"
  },
  "orig_nbformat": 4
 },
 "nbformat": 4,
 "nbformat_minor": 2
}
